{
  "nbformat": 4,
  "nbformat_minor": 0,
  "metadata": {
    "colab": {
      "provenance": []
    },
    "kernelspec": {
      "name": "python3",
      "display_name": "Python 3"
    },
    "language_info": {
      "name": "python"
    }
  },
  "cells": [
    {
      "cell_type": "markdown",
      "source": [
        "# Data Toolkit Assignment\n"
      ],
      "metadata": {
        "id": "iDae73C54S2w"
      }
    },
    {
      "cell_type": "markdown",
      "source": [
        "# Theory Questions"
      ],
      "metadata": {
        "id": "mvODp2EL4YUM"
      }
    },
    {
      "cell_type": "markdown",
      "source": [
        "1.  What is NumPy, and why is it widely used in Python?\n",
        "\n",
        "-> NumPy is a fundamental Python library for numerical computing that provides support for large, multi-dimensional arrays and matrices, along with high-level mathematical functions. It's widely used because it offers efficient storage and operations on arrays, vectorized operations, and serves as the foundation for most scientific computing in Python."
      ],
      "metadata": {
        "id": "DpVrMPD34b-t"
      }
    },
    {
      "cell_type": "markdown",
      "source": [
        "2.  How does broadcasting work in NumPy?\n",
        "\n",
        "-> Broadcasting in NumPy automatically expands smaller arrays to match the shape of larger arrays during operations, eliminating the need for explicit loops. When arrays with different shapes are operated on, NumPy implicitly expands the smaller array to match the larger one."
      ],
      "metadata": {
        "id": "R006Yw7w4kiW"
      }
    },
    {
      "cell_type": "code",
      "source": [
        "# Example\n",
        "import numpy as np\n",
        "a = np.array([1, 2, 3])\n",
        "b = np.array([[1], [2], [3]])\n",
        "result = a + b\n",
        "print(result)"
      ],
      "metadata": {
        "colab": {
          "base_uri": "https://localhost:8080/"
        },
        "id": "cCGB-pa-45eC",
        "outputId": "0234f7d8-4a0b-425a-9e9f-46ac749e8e66"
      },
      "execution_count": 2,
      "outputs": [
        {
          "output_type": "stream",
          "name": "stdout",
          "text": [
            "[[2 3 4]\n",
            " [3 4 5]\n",
            " [4 5 6]]\n"
          ]
        }
      ]
    },
    {
      "cell_type": "markdown",
      "source": [
        "3. What is a Pandas DataFrame?\n",
        "\n",
        "-> A Pandas DataFrame is a 2D labeled data structure with columns of potentially different types. Think of it as a spreadsheet or SQL table. It has both row and column labels, can hold heterogeneous data types, and supports operations like filtering, aggregation, and joining."
      ],
      "metadata": {
        "id": "GnfE0-A75ORh"
      }
    },
    {
      "cell_type": "markdown",
      "source": [
        "4.  Explain the use of the groupby() method in Pandas.\n",
        "\n",
        "-> The groupby() method in Pandas splits data into groups based on some criteria, applies a function to each group independently, and combines the results. It's useful for aggregation, transformation, and filtering operations.\n",
        "Example:-"
      ],
      "metadata": {
        "id": "DoErRtpX5YVs"
      }
    },
    {
      "cell_type": "code",
      "source": [
        "import pandas as pd\n",
        "df = pd.DataFrame({'A': ['foo', 'bar', 'foo', 'bar'],\n",
        "                   'B': [1, 2, 3, 4],\n",
        "                   'C': [5, 6, 7, 8]})\n",
        "grouped = df.groupby('A').sum()\n",
        "print(grouped)"
      ],
      "metadata": {
        "colab": {
          "base_uri": "https://localhost:8080/"
        },
        "id": "KuRc4hOS5lRk",
        "outputId": "7b5bfd72-b37d-455e-c92e-fddc3e04cc90"
      },
      "execution_count": 3,
      "outputs": [
        {
          "output_type": "stream",
          "name": "stdout",
          "text": [
            "     B   C\n",
            "A         \n",
            "bar  6  14\n",
            "foo  4  12\n"
          ]
        }
      ]
    },
    {
      "cell_type": "markdown",
      "source": [
        "5. Why is Seaborn preferred for statistical visualizations?\n",
        "\n",
        "-> Seaborn is preferred for statistical visualizations because it provides a high-level interface for drawing attractive statistical graphics, built-in themes for styling matplotlib graphics, and functions for visualizing univariate and bivariate distributions. It handles complex statistical plots with minimal code and integrates well with Pandas."
      ],
      "metadata": {
        "id": "Zb0e0v9A5wP4"
      }
    },
    {
      "cell_type": "markdown",
      "source": [
        "6.  What are the differences between NumPy arrays and Python lists?\n",
        "\n",
        "-> NumPy arrays are homogeneous (same data type) while lists can be heterogeneous.\n",
        "\n",
        "Arrays support vectorized operations while lists require explicit loops.\n",
        "\n",
        "Arrays are more memory-efficient and faster for numerical operations.\n",
        "\n",
        "Arrays have fixed size after creation while lists are dynamic.\n",
        "\n",
        "Arrays support advanced indexing and slicing operations."
      ],
      "metadata": {
        "id": "qR_kf9HI59e_"
      }
    },
    {
      "cell_type": "markdown",
      "source": [
        "7. What is a heatmap, and when should it be used?\n",
        "\n",
        "-> A heatmap is a graphical representation of data where values are depicted as colors. It's useful for visualizing complex data patterns, correlation matrices, and large datasets where patterns may not be apparent in tabular form. Heatmaps work best when looking for patterns, clusters, or anomalies in large datasets."
      ],
      "metadata": {
        "id": "sKubrmfd6N4Z"
      }
    },
    {
      "cell_type": "markdown",
      "source": [
        "8. What does the term “vectorized operation” mean in NumPy?\n",
        "\n",
        "-> Vectorized operations in NumPy refer to operations that are performed on entire arrays at once rather than element-by-element using loops. These operations are executed using highly optimized, pre-compiled C code, making them much faster than Python loops."
      ],
      "metadata": {
        "id": "wG6DuFEh6V_0"
      }
    },
    {
      "cell_type": "code",
      "source": [
        "import numpy as np\n",
        "a = np.array([1, 2, 3, 4])\n",
        "b = a * 2\n",
        "print(b)"
      ],
      "metadata": {
        "colab": {
          "base_uri": "https://localhost:8080/"
        },
        "id": "Za94VhXy6eDs",
        "outputId": "122bb345-ae84-4868-81e6-b6dd191034ad"
      },
      "execution_count": 5,
      "outputs": [
        {
          "output_type": "stream",
          "name": "stdout",
          "text": [
            "[2 4 6 8]\n"
          ]
        }
      ]
    },
    {
      "cell_type": "markdown",
      "source": [
        "9.  How does Matplotlib differ from Plotly?\n",
        "\n",
        "-> Matplotlib is static, Plotly is interactive.\n",
        "\n",
        "Matplotlib works primarily for desktop/publications, Plotly excels on web platforms.\n",
        "\n",
        "Matplotlib requires more code for complex visualizations, Plotly has higher-level API.\n",
        "\n",
        "Plotly has built-in support for dashboards and web integration.\n",
        "\n",
        "Matplotlib is more traditional and widely used, Plotly is newer and growing rapidly."
      ],
      "metadata": {
        "id": "TgvUcIz86qmf"
      }
    },
    {
      "cell_type": "markdown",
      "source": [
        "10. What is the significance of hierarchical indexing in Pandas?\n",
        "\n",
        "-> Hierarchical indexing in Pandas allows for data to be structured in multiple levels, enabling higher-dimensional data to be represented in a two-dimensional DataFrame. This is significant because it allows efficient representation and manipulation of multi-dimensional data, enabling operations like pivoting, stacking/unstacking, and group-based analysis."
      ],
      "metadata": {
        "id": "oHYb9m118UsD"
      }
    },
    {
      "cell_type": "markdown",
      "source": [
        "11.  What is the role of Seaborn’s pairplot() function?\n",
        "\n",
        "-> Seaborn's pairplot() function creates a grid of scatter plots showing the relationships between pairs of variables in a dataset. Histograms or density plots for each variable appear along the diagonal. It's useful for quickly exploring distributions and relationships between multiple variables simultaneously."
      ],
      "metadata": {
        "id": "uzZ6okwe8fR4"
      }
    },
    {
      "cell_type": "markdown",
      "source": [
        "12.  What is the purpose of the describe() function in Pandas?\n",
        "-> The describe() function in Pandas provides descriptive statistics for DataFrame columns. It generates summary statistics like count, mean, standard deviation, min, max, and quartiles, giving a quick overview of the distribution of data in numerical columns.\n",
        "Example:-"
      ],
      "metadata": {
        "id": "ZIWUAWMj8mz9"
      }
    },
    {
      "cell_type": "code",
      "source": [
        "import pandas as pd\n",
        "df = pd.DataFrame({'A': [1, 2, 3, 4], 'B': [5, 6, 7, 8]})\n",
        "summary = df.describe()\n",
        "print(summary)"
      ],
      "metadata": {
        "colab": {
          "base_uri": "https://localhost:8080/"
        },
        "id": "GdSxA3Vj87z8",
        "outputId": "ee9b0d23-c8ce-4ffb-aa18-374b96b5be51"
      },
      "execution_count": 6,
      "outputs": [
        {
          "output_type": "stream",
          "name": "stdout",
          "text": [
            "              A         B\n",
            "count  4.000000  4.000000\n",
            "mean   2.500000  6.500000\n",
            "std    1.290994  1.290994\n",
            "min    1.000000  5.000000\n",
            "25%    1.750000  5.750000\n",
            "50%    2.500000  6.500000\n",
            "75%    3.250000  7.250000\n",
            "max    4.000000  8.000000\n"
          ]
        }
      ]
    },
    {
      "cell_type": "markdown",
      "source": [
        "13. Why is handling missing data important in Pandas?\n",
        "\n",
        "-> Handling missing data is important in Pandas because:\n",
        "\n",
        "Real-world data is often incomplete.\n",
        "\n",
        "Missing values can distort analysis results.\n",
        "\n",
        "Pandas provides flexible methods to detect, remove, or fill missing values.\n",
        "\n",
        "Proper missing data handling ensures statistical validity.\n",
        "\n",
        "It prevents errors during calculations or model fitting."
      ],
      "metadata": {
        "id": "dDLgXDk49B3E"
      }
    },
    {
      "cell_type": "markdown",
      "source": [
        "14.What are the benefits of using Plotly for data visualization?\n",
        "\n",
        "-> Benefits of using Plotly for data visualization:\n",
        "\n",
        "Interactive visualizations with zoom, pan, and hover functionality.\n",
        "\n",
        "Web-ready outputs that can be embedded in dashboards.\n",
        "\n",
        "Wide range of chart types and customization options.\n",
        "\n",
        "Built-in tools for creating complex visualizations with minimal code.\n",
        "\n",
        "Supports animated and 3D visualizations."
      ],
      "metadata": {
        "id": "tjHjdNfh9PTA"
      }
    },
    {
      "cell_type": "markdown",
      "source": [
        "15.  How does NumPy handle multidimensional arrays?\n",
        "\n",
        "-> NumPy handles multidimensional arrays through ndarray objects, which can have any number of dimensions. Each dimension is called an axis, and the number of axes is the rank. NumPy provides efficient storage and operations regardless of dimensionality, with specialized indexing, slicing, and reshaping operations.\n",
        "Example:-"
      ],
      "metadata": {
        "id": "zO639i3F9afB"
      }
    },
    {
      "cell_type": "code",
      "source": [
        "import numpy as np\n",
        "arr_3d = np.array([[[1, 2, 3, 4],\n",
        "                    [5, 6, 7, 8],\n",
        "                    [9, 10, 11, 12]],\n",
        "                   [[13, 14, 15, 16],\n",
        "                    [17, 18, 19, 20],\n",
        "                    [21, 22, 23, 24]]])\n",
        "print(arr_3d)"
      ],
      "metadata": {
        "colab": {
          "base_uri": "https://localhost:8080/"
        },
        "id": "XYR8eddF9i5M",
        "outputId": "1f772659-c173-4964-9ca9-a0239af4f34e"
      },
      "execution_count": 7,
      "outputs": [
        {
          "output_type": "stream",
          "name": "stdout",
          "text": [
            "[[[ 1  2  3  4]\n",
            "  [ 5  6  7  8]\n",
            "  [ 9 10 11 12]]\n",
            "\n",
            " [[13 14 15 16]\n",
            "  [17 18 19 20]\n",
            "  [21 22 23 24]]]\n"
          ]
        }
      ]
    },
    {
      "cell_type": "markdown",
      "source": [
        "16. What is the role of Bokeh in data visualization?\n",
        "\n",
        "->Bokeh is a Python library for creating interactive visualizations for web browsers. Its role is to provide a high-level interface for building complex, interactive plots, dashboards, and data applications that can be embedded in web pages or served via servers. Unlike matplotlib, it's designed from the ground up for interactivity and web deployment."
      ],
      "metadata": {
        "id": "tCu8eqlo9rk7"
      }
    },
    {
      "cell_type": "markdown",
      "source": [
        "17.  Explain the difference between apply() and map() in Pandas?\n",
        "\n",
        "-> apply() vs map() in Pandas:\n",
        "\n",
        "apply() works on both Series and DataFrames and can execute complex functions.\n",
        "\n",
        "map() works only on Series and is generally faster for simple element-wise transformations.\n",
        "\n",
        "apply() can return complex data structures while map() typically returns scalars.\n",
        "\n",
        "map() can use dictionaries or Series as mapping references"
      ],
      "metadata": {
        "id": "RGC2kAVU92qO"
      }
    },
    {
      "cell_type": "code",
      "source": [
        "import pandas as pd\n",
        "s = pd.Series([1, 2, 3, 4])\n",
        "result_map = s.map(lambda x: x**2)\n",
        "result_apply = s.apply(lambda x: x**2)\n",
        "\n",
        "print(result_map)\n",
        "print(result_apply)"
      ],
      "metadata": {
        "colab": {
          "base_uri": "https://localhost:8080/"
        },
        "id": "42VpZNFl-A3r",
        "outputId": "39ec550c-1599-452c-d619-c254c9e42f1a"
      },
      "execution_count": 8,
      "outputs": [
        {
          "output_type": "stream",
          "name": "stdout",
          "text": [
            "0     1\n",
            "1     4\n",
            "2     9\n",
            "3    16\n",
            "dtype: int64\n",
            "0     1\n",
            "1     4\n",
            "2     9\n",
            "3    16\n",
            "dtype: int64\n"
          ]
        }
      ]
    },
    {
      "cell_type": "markdown",
      "source": [
        "18. What are some advanced features of NumPy?\n",
        "\n",
        "-> Advanced features of NumPy include:\n",
        "\n",
        "Universal functions (ufuncs) for fast element-wise operations.\n",
        "\n",
        "Broadcasting for operations between arrays of different shapes.\n",
        "\n",
        "Structured arrays for compound data types.\n",
        "\n",
        "Memory-mapped files for handling large datasets.\n",
        "\n",
        "Fast Fourier Transforms and linear algebra operations.\n",
        "\n",
        "Random number generation and statistical."
      ],
      "metadata": {
        "id": "ReqI7xAf-J9M"
      }
    },
    {
      "cell_type": "markdown",
      "source": [
        "19.  How does Pandas simplify time series analysis?\n",
        "\n",
        "-> Pandas simplifies time series analysis by providing specialized data types (Timestamp, DatetimeIndex), resampling functions, rolling window calculations, shifting and lagging operations, time-based indexing, and built-in functions for handling different time frequencies and time zones."
      ],
      "metadata": {
        "id": "7-JO7B5T-WdQ"
      }
    },
    {
      "cell_type": "code",
      "source": [
        "import pandas as pd\n",
        "dates = pd.date_range('20230101', periods=6)\n",
        "ts = pd.Series(range(6), index=dates)\n",
        "resampled = ts.resample('2D').sum()\n",
        "print(resampled)"
      ],
      "metadata": {
        "colab": {
          "base_uri": "https://localhost:8080/"
        },
        "id": "0Rmbggw0-dt2",
        "outputId": "052de22c-433b-447d-d2a5-8871911be930"
      },
      "execution_count": 9,
      "outputs": [
        {
          "output_type": "stream",
          "name": "stdout",
          "text": [
            "2023-01-01    1\n",
            "2023-01-03    5\n",
            "2023-01-05    9\n",
            "Freq: 2D, dtype: int64\n"
          ]
        }
      ]
    },
    {
      "cell_type": "markdown",
      "source": [
        "20.  What is the role of a pivot table in Pandas?\n",
        "\n",
        "-> A pivot table in Pandas reshapes data to provide a spreadsheet-like summary, automatically aggregating data and creating cross-tabulations. It allows for reorganizing data to analyze it from different perspectives without changing the original dataset, similar to pivot tables in Excel."
      ],
      "metadata": {
        "id": "4-4y2_nI-xpO"
      }
    },
    {
      "cell_type": "markdown",
      "source": [
        "21.  Why is NumPy’s array slicing faster than Python’s list slicing?\n",
        "\n",
        "-> NumPy's array slicing is faster than Python's list slicing because:\n",
        "\n",
        "NumPy arrays are stored in contiguous memory blocks.\n",
        "\n",
        "Array slices are views into the original array, not copies (unless explicitly copied).\n",
        "\n",
        "Operations are implemented in optimized C code.\n",
        "\n",
        "NumPy can perform optimizations based on fixed data types.\n",
        "\n",
        "Slicing operations benefit from CPU cache efficiency due to memory layout."
      ],
      "metadata": {
        "id": "_Yj5WqPh-5lW"
      }
    },
    {
      "cell_type": "markdown",
      "source": [
        "22.  What are some common use cases for Seaborn?\n",
        "\n",
        "-> Common use cases for Seaborn include:\n",
        "\n",
        "Statistical data visualization with confidence intervals.\n",
        "\n",
        "Visualizing distribution of data (histograms, KDE plots).\n",
        "\n",
        "Visualizing relationships between variables.\n",
        "\n",
        "Creating complex visualizations like heatmaps and cluster maps.\n",
        "\n",
        "Creating publication-quality visualizations with minimal code."
      ],
      "metadata": {
        "id": "8iUJiQg6_FUu"
      }
    },
    {
      "cell_type": "markdown",
      "source": [
        "# Coding Questions"
      ],
      "metadata": {
        "id": "XRRsQj3X_QVq"
      }
    },
    {
      "cell_type": "code",
      "source": [
        "# Q1.  How do you create a 2D NumPy array and calculate the sum of each row?\n",
        "\n",
        "import numpy as np\n",
        "\n",
        "arr = np.array([[1, 2, 3], [4, 5, 6], [7, 8, 9]])\n",
        "print(arr)\n",
        "row_sums = np.sum(arr, axis=1)\n",
        "print(\"sum of each row:- \",row_sums)"
      ],
      "metadata": {
        "colab": {
          "base_uri": "https://localhost:8080/"
        },
        "id": "kHu7yBTM_Ukz",
        "outputId": "ea3b5290-8423-411e-d0c1-def483abfc23"
      },
      "execution_count": 16,
      "outputs": [
        {
          "output_type": "stream",
          "name": "stdout",
          "text": [
            "[[1 2 3]\n",
            " [4 5 6]\n",
            " [7 8 9]]\n",
            "sum of each row:-  [ 6 15 24]\n"
          ]
        }
      ]
    },
    {
      "cell_type": "code",
      "source": [
        "#2.  Write a Pandas script to find the mean of a specific column in a DataFrame\n",
        "import pandas as pd\n",
        "\n",
        "df = pd.DataFrame({'A': [1, 2, 3, 4, 5],\n",
        "                   'B': [10, 20, 30, 40, 50],\n",
        "                   'C': [100, 200, 300, 400, 500]})\n",
        "mean_of_B = df['B'].mean()\n",
        "print(mean_of_B)"
      ],
      "metadata": {
        "colab": {
          "base_uri": "https://localhost:8080/"
        },
        "id": "oxUJvzS8A2oH",
        "outputId": "8d540042-bd48-4e21-c155-e7b2beca7e23"
      },
      "execution_count": 17,
      "outputs": [
        {
          "output_type": "stream",
          "name": "stdout",
          "text": [
            "30.0\n"
          ]
        }
      ]
    },
    {
      "cell_type": "code",
      "source": [
        "#3.  Create a scatter plot using Matplotlib.\n",
        "\n",
        "import matplotlib.pyplot as plt\n",
        "import numpy as np\n",
        "\n",
        "x = np.random.randn(50)\n",
        "y = np.random.randn(50)\n",
        "plt.scatter(x, y)\n",
        "plt.xlabel('X values')\n",
        "plt.ylabel('Y values')\n",
        "plt.title('Random Scatter Plot')\n",
        "plt.show()"
      ],
      "metadata": {
        "colab": {
          "base_uri": "https://localhost:8080/",
          "height": 472
        },
        "id": "4EsYc1dMBEC2",
        "outputId": "0ea3f837-22ca-4134-ce48-7a48710a15c8"
      },
      "execution_count": 19,
      "outputs": [
        {
          "output_type": "display_data",
          "data": {
            "text/plain": [
              "<Figure size 640x480 with 1 Axes>"
            ],
            "image/png": "[encoded data removed]"
          },
          "metadata": {}
        }
      ]
    },
    {
      "cell_type": "code",
      "source": [
        "#4. How do you calculate the correlation matrix using Seaborn and visualize it with a heatmap\n",
        "\n",
        "import numpy as np\n",
        "import pandas as pd\n",
        "import seaborn as sns\n",
        "import matplotlib.pyplot as plt\n",
        "\n",
        "data = pd.DataFrame(np.random.randn(100, 5), columns=['A', 'B', 'C', 'D', 'E'])\n",
        "corr_matrix = data.corr()\n",
        "sns.heatmap(corr_matrix, annot=True, cmap='coolwarm')\n",
        "plt.title('Correlation Matrix Heatmap')\n",
        "plt.show()\n"
      ],
      "metadata": {
        "colab": {
          "base_uri": "https://localhost:8080/",
          "height": 452
        },
        "id": "ik4UIAQTBU9D",
        "outputId": "e21acb30-a9d4-43f0-b323-ab36cd01d434"
      },
      "execution_count": 22,
      "outputs": [
        {
          "output_type": "display_data",
          "data": {
            "text/plain": [
              "<Figure size 640x480 with 2 Axes>"
            ],
            "image/png": "[encoded data removed]"
          },
          "metadata": {}
        }
      ]
    },
    {
      "cell_type": "code",
      "source": [
        "#5. Generate a bar plot using Plotly\n",
        "\n",
        "import plotly.express as px\n",
        "\n",
        "categories = ['Category A', 'Category B', 'Category C', 'Category D']\n",
        "values = [25, 40, 30, 50]\n",
        "\n",
        "fig = px.bar(x=categories, y=values)\n",
        "fig.update_layout(title='Simple Bar Plot',\n",
        "                  xaxis_title='Categories',\n",
        "                  yaxis_title='Values')\n",
        "fig.show()"
      ],
      "metadata": {
        "colab": {
          "base_uri": "https://localhost:8080/",
          "height": 542
        },
        "id": "uf4WFt69B-nr",
        "outputId": "324ceebf-dfd6-413a-c5c7-01a6297b4614"
      },
      "execution_count": 23,
      "outputs": [
        {
          "output_type": "display_data",
          "data": {
            "text/html": [
              "<html>\n",
              "<head><meta charset=\"utf-8\" /></head>\n",
              "<body>\n",
              "    <div>            <script src=\"https://cdnjs.cloudflare.com/ajax/libs/mathjax/2.7.5/MathJax.js?config=TeX-AMS-MML_SVG\"></script><script type=\"text/javascript\">if (window.MathJax && window.MathJax.Hub && window.MathJax.Hub.Config) {window.MathJax.Hub.Config({SVG: {font: \"STIX-Web\"}});}</script>                <script type=\"text/javascript\">window.PlotlyConfig = {MathJaxConfig: 'local'};</script>\n",
              "        <script charset=\"utf-8\" src=\"https://cdn.plot.ly/plotly-2.35.2.min.js\"></script>                <div id=\"7c6996f9-9910-41a0-ba6a-fd813c20155b\" class=\"plotly-graph-div\" style=\"height:525px; width:100%;\"></div>            <script type=\"text/javascript\">                                    window.PLOTLYENV=window.PLOTLYENV || {};                                    if (document.getElementById(\"7c6996f9-9910-41a0-ba6a-fd813c20155b\")) {                    Plotly.newPlot(                        \"7c6996f9-9910-41a0-ba6a-fd813c20155b\",                        [{\"alignmentgroup\":\"True\",\"hovertemplate\":\"x=%{x}\\u003cbr\\u003ey=%{y}\\u003cextra\\u003e\\u003c\\u002fextra\\u003e\",\"legendgroup\":\"\",\"marker\":{\"color\":\"#636efa\",\"pattern\":{\"shape\":\"\"}},\"name\":\"\",\"offsetgroup\":\"\",\"orientation\":\"v\",\"showlegend\":false,\"textposition\":\"auto\",\"x\":[\"Category A\",\"Category B\",\"Category C\",\"Category D\"],\"xaxis\":\"x\",\"y\":[25,40,30,50],\"yaxis\":\"y\",\"type\":\"bar\"}],                        {\"template\":{\"data\":{\"histogram2dcontour\":[{\"type\":\"histogram2dcontour\",\"colorbar\":{\"outlinewidth\":0,\"ticks\":\"\"},\"colorscale\":[[0.0,\"#0d0887\"],[0.1111111111111111,\"#46039f\"],[0.2222222222222222,\"#7201a8\"],[0.3333333333333333,\"#9c179e\"],[0.4444444444444444,\"#bd3786\"],[0.5555555555555556,\"#d8576b\"],[0.6666666666666666,\"#ed7953\"],[0.7777777777777778,\"#fb9f3a\"],[0.8888888888888888,\"#fdca26\"],[1.0,\"#f0f921\"]]}],\"choropleth\":[{\"type\":\"choropleth\",\"colorbar\":{\"outlinewidth\":0,\"ticks\":\"\"}}],\"histogram2d\":[{\"type\":\"histogram2d\",\"colorbar\":{\"outlinewidth\":0,\"ticks\":\"\"},\"colorscale\":[[0.0,\"#0d0887\"],[0.1111111111111111,\"#46039f\"],[0.2222222222222222,\"#7201a8\"],[0.3333333333333333,\"#9c179e\"],[0.4444444444444444,\"#bd3786\"],[0.5555555555555556,\"#d8576b\"],[0.6666666666666666,\"#ed7953\"],[0.7777777777777778,\"#fb9f3a\"],[0.8888888888888888,\"#fdca26\"],[1.0,\"#f0f921\"]]}],\"heatmap\":[{\"type\":\"heatmap\",\"colorbar\":{\"outlinewidth\":0,\"ticks\":\"\"},\"colorscale\":[[0.0,\"#0d0887\"],[0.1111111111111111,\"#46039f\"],[0.2222222222222222,\"#7201a8\"],[0.3333333333333333,\"#9c179e\"],[0.4444444444444444,\"#bd3786\"],[0.5555555555555556,\"#d8576b\"],[0.6666666666666666,\"#ed7953\"],[0.7777777777777778,\"#fb9f3a\"],[0.8888888888888888,\"#fdca26\"],[1.0,\"#f0f921\"]]}],\"heatmapgl\":[{\"type\":\"heatmapgl\",\"colorbar\":{\"outlinewidth\":0,\"ticks\":\"\"},\"colorscale\":[[0.0,\"#0d0887\"],[0.1111111111111111,\"#46039f\"],[0.2222222222222222,\"#7201a8\"],[0.3333333333333333,\"#9c179e\"],[0.4444444444444444,\"#bd3786\"],[0.5555555555555556,\"#d8576b\"],[0.6666666666666666,\"#ed7953\"],[0.7777777777777778,\"#fb9f3a\"],[0.8888888888888888,\"#fdca26\"],[1.0,\"#f0f921\"]]}],\"contourcarpet\":[{\"type\":\"contourcarpet\",\"colorbar\":{\"outlinewidth\":0,\"ticks\":\"\"}}],\"contour\":[{\"type\":\"contour\",\"colorbar\":{\"outlinewidth\":0,\"ticks\":\"\"},\"colorscale\":[[0.0,\"#0d0887\"],[0.1111111111111111,\"#46039f\"],[0.2222222222222222,\"#7201a8\"],[0.3333333333333333,\"#9c179e\"],[0.4444444444444444,\"#bd3786\"],[0.5555555555555556,\"#d8576b\"],[0.6666666666666666,\"#ed7953\"],[0.7777777777777778,\"#fb9f3a\"],[0.8888888888888888,\"#fdca26\"],[1.0,\"#f0f921\"]]}],\"surface\":[{\"type\":\"surface\",\"colorbar\":{\"outlinewidth\":0,\"ticks\":\"\"},\"colorscale\":[[0.0,\"#0d0887\"],[0.1111111111111111,\"#46039f\"],[0.2222222222222222,\"#7201a8\"],[0.3333333333333333,\"#9c179e\"],[0.4444444444444444,\"#bd3786\"],[0.5555555555555556,\"#d8576b\"],[0.6666666666666666,\"#ed7953\"],[0.7777777777777778,\"#fb9f3a\"],[0.8888888888888888,\"#fdca26\"],[1.0,\"#f0f921\"]]}],\"mesh3d\":[{\"type\":\"mesh3d\",\"colorbar\":{\"outlinewidth\":0,\"ticks\":\"\"}}],\"scatter\":[{\"fillpattern\":{\"fillmode\":\"overlay\",\"size\":10,\"solidity\":0.2},\"type\":\"scatter\"}],\"parcoords\":[{\"type\":\"parcoords\",\"line\":{\"colorbar\":{\"outlinewidth\":0,\"ticks\":\"\"}}}],\"scatterpolargl\":[{\"type\":\"scatterpolargl\",\"marker\":{\"colorbar\":{\"outlinewidth\":0,\"ticks\":\"\"}}}],\"bar\":[{\"error_x\":{\"color\":\"#2a3f5f\"},\"error_y\":{\"color\":\"#2a3f5f\"},\"marker\":{\"line\":{\"color\":\"#E5ECF6\",\"width\":0.5},\"pattern\":{\"fillmode\":\"overlay\",\"size\":10,\"solidity\":0.2}},\"type\":\"bar\"}],\"scattergeo\":[{\"type\":\"scattergeo\",\"marker\":{\"colorbar\":{\"outlinewidth\":0,\"ticks\":\"\"}}}],\"scatterpolar\":[{\"type\":\"scatterpolar\",\"marker\":{\"colorbar\":{\"outlinewidth\":0,\"ticks\":\"\"}}}],\"histogram\":[{\"marker\":{\"pattern\":{\"fillmode\":\"overlay\",\"size\":10,\"solidity\":0.2}},\"type\":\"histogram\"}],\"scattergl\":[{\"type\":\"scattergl\",\"marker\":{\"colorbar\":{\"outlinewidth\":0,\"ticks\":\"\"}}}],\"scatter3d\":[{\"type\":\"scatter3d\",\"line\":{\"colorbar\":{\"outlinewidth\":0,\"ticks\":\"\"}},\"marker\":{\"colorbar\":{\"outlinewidth\":0,\"ticks\":\"\"}}}],\"scattermapbox\":[{\"type\":\"scattermapbox\",\"marker\":{\"colorbar\":{\"outlinewidth\":0,\"ticks\":\"\"}}}],\"scatterternary\":[{\"type\":\"scatterternary\",\"marker\":{\"colorbar\":{\"outlinewidth\":0,\"ticks\":\"\"}}}],\"scattercarpet\":[{\"type\":\"scattercarpet\",\"marker\":{\"colorbar\":{\"outlinewidth\":0,\"ticks\":\"\"}}}],\"carpet\":[{\"aaxis\":{\"endlinecolor\":\"#2a3f5f\",\"gridcolor\":\"white\",\"linecolor\":\"white\",\"minorgridcolor\":\"white\",\"startlinecolor\":\"#2a3f5f\"},\"baxis\":{\"endlinecolor\":\"#2a3f5f\",\"gridcolor\":\"white\",\"linecolor\":\"white\",\"minorgridcolor\":\"white\",\"startlinecolor\":\"#2a3f5f\"},\"type\":\"carpet\"}],\"table\":[{\"cells\":{\"fill\":{\"color\":\"#EBF0F8\"},\"line\":{\"color\":\"white\"}},\"header\":{\"fill\":{\"color\":\"#C8D4E3\"},\"line\":{\"color\":\"white\"}},\"type\":\"table\"}],\"barpolar\":[{\"marker\":{\"line\":{\"color\":\"#E5ECF6\",\"width\":0.5},\"pattern\":{\"fillmode\":\"overlay\",\"size\":10,\"solidity\":0.2}},\"type\":\"barpolar\"}],\"pie\":[{\"automargin\":true,\"type\":\"pie\"}]},\"layout\":{\"autotypenumbers\":\"strict\",\"colorway\":[\"#636efa\",\"#EF553B\",\"#00cc96\",\"#ab63fa\",\"#FFA15A\",\"#19d3f3\",\"#FF6692\",\"#B6E880\",\"#FF97FF\",\"#FECB52\"],\"font\":{\"color\":\"#2a3f5f\"},\"hovermode\":\"closest\",\"hoverlabel\":{\"align\":\"left\"},\"paper_bgcolor\":\"white\",\"plot_bgcolor\":\"#E5ECF6\",\"polar\":{\"bgcolor\":\"#E5ECF6\",\"angularaxis\":{\"gridcolor\":\"white\",\"linecolor\":\"white\",\"ticks\":\"\"},\"radialaxis\":{\"gridcolor\":\"white\",\"linecolor\":\"white\",\"ticks\":\"\"}},\"ternary\":{\"bgcolor\":\"#E5ECF6\",\"aaxis\":{\"gridcolor\":\"white\",\"linecolor\":\"white\",\"ticks\":\"\"},\"baxis\":{\"gridcolor\":\"white\",\"linecolor\":\"white\",\"ticks\":\"\"},\"caxis\":{\"gridcolor\":\"white\",\"linecolor\":\"white\",\"ticks\":\"\"}},\"coloraxis\":{\"colorbar\":{\"outlinewidth\":0,\"ticks\":\"\"}},\"colorscale\":{\"sequential\":[[0.0,\"#0d0887\"],[0.1111111111111111,\"#46039f\"],[0.2222222222222222,\"#7201a8\"],[0.3333333333333333,\"#9c179e\"],[0.4444444444444444,\"#bd3786\"],[0.5555555555555556,\"#d8576b\"],[0.6666666666666666,\"#ed7953\"],[0.7777777777777778,\"#fb9f3a\"],[0.8888888888888888,\"#fdca26\"],[1.0,\"#f0f921\"]],\"sequentialminus\":[[0.0,\"#0d0887\"],[0.1111111111111111,\"#46039f\"],[0.2222222222222222,\"#7201a8\"],[0.3333333333333333,\"#9c179e\"],[0.4444444444444444,\"#bd3786\"],[0.5555555555555556,\"#d8576b\"],[0.6666666666666666,\"#ed7953\"],[0.7777777777777778,\"#fb9f3a\"],[0.8888888888888888,\"#fdca26\"],[1.0,\"#f0f921\"]],\"diverging\":[[0,\"#8e0152\"],[0.1,\"#c51b7d\"],[0.2,\"#de77ae\"],[0.3,\"#f1b6da\"],[0.4,\"#fde0ef\"],[0.5,\"#f7f7f7\"],[0.6,\"#e6f5d0\"],[0.7,\"#b8e186\"],[0.8,\"#7fbc41\"],[0.9,\"#4d9221\"],[1,\"#276419\"]]},\"xaxis\":{\"gridcolor\":\"white\",\"linecolor\":\"white\",\"ticks\":\"\",\"title\":{\"standoff\":15},\"zerolinecolor\":\"white\",\"automargin\":true,\"zerolinewidth\":2},\"yaxis\":{\"gridcolor\":\"white\",\"linecolor\":\"white\",\"ticks\":\"\",\"title\":{\"standoff\":15},\"zerolinecolor\":\"white\",\"automargin\":true,\"zerolinewidth\":2},\"scene\":{\"xaxis\":{\"backgroundcolor\":\"#E5ECF6\",\"gridcolor\":\"white\",\"linecolor\":\"white\",\"showbackground\":true,\"ticks\":\"\",\"zerolinecolor\":\"white\",\"gridwidth\":2},\"yaxis\":{\"backgroundcolor\":\"#E5ECF6\",\"gridcolor\":\"white\",\"linecolor\":\"white\",\"showbackground\":true,\"ticks\":\"\",\"zerolinecolor\":\"white\",\"gridwidth\":2},\"zaxis\":{\"backgroundcolor\":\"#E5ECF6\",\"gridcolor\":\"white\",\"linecolor\":\"white\",\"showbackground\":true,\"ticks\":\"\",\"zerolinecolor\":\"white\",\"gridwidth\":2}},\"shapedefaults\":{\"line\":{\"color\":\"#2a3f5f\"}},\"annotationdefaults\":{\"arrowcolor\":\"#2a3f5f\",\"arrowhead\":0,\"arrowwidth\":1},\"geo\":{\"bgcolor\":\"white\",\"landcolor\":\"#E5ECF6\",\"subunitcolor\":\"white\",\"showland\":true,\"showlakes\":true,\"lakecolor\":\"white\"},\"title\":{\"x\":0.05},\"mapbox\":{\"style\":\"light\"}}},\"xaxis\":{\"anchor\":\"y\",\"domain\":[0.0,1.0],\"title\":{\"text\":\"Categories\"}},\"yaxis\":{\"anchor\":\"x\",\"domain\":[0.0,1.0],\"title\":{\"text\":\"Values\"}},\"legend\":{\"tracegroupgap\":0},\"margin\":{\"t\":60},\"barmode\":\"relative\",\"title\":{\"text\":\"Simple Bar Plot\"}},                        {\"responsive\": true}                    ).then(function(){\n",
              "                            \n",
              "var gd = document.getElementById('7c6996f9-9910-41a0-ba6a-fd813c20155b');\n",
              "var x = new MutationObserver(function (mutations, observer) {{\n",
              "        var display = window.getComputedStyle(gd).display;\n",
              "        if (!display || display === 'none') {{\n",
              "            console.log([gd, 'removed!']);\n",
              "            Plotly.purge(gd);\n",
              "            observer.disconnect();\n",
              "        }}\n",
              "}});\n",
              "\n",
              "// Listen for the removal of the full notebook cells\n",
              "var notebookContainer = gd.closest('#notebook-container');\n",
              "if (notebookContainer) {{\n",
              "    x.observe(notebookContainer, {childList: true});\n",
              "}}\n",
              "\n",
              "// Listen for the clearing of the current output cell\n",
              "var outputEl = gd.closest('.output');\n",
              "if (outputEl) {{\n",
              "    x.observe(outputEl, {childList: true});\n",
              "}}\n",
              "\n",
              "                        })                };                            </script>        </div>\n",
              "</body>\n",
              "</html>"
            ]
          },
          "metadata": {}
        }
      ]
    },
    {
      "cell_type": "code",
      "source": [
        "#6. Create a DataFrame and add a new column based on an existing column.\n",
        "\n",
        "import pandas as pd\n",
        "\n",
        "df = pd.DataFrame({'A': [1, 2, 3, 4, 5]})\n",
        "df['B'] = df['A'] * 10\n",
        "print(df)"
      ],
      "metadata": {
        "colab": {
          "base_uri": "https://localhost:8080/"
        },
        "id": "lkuKvKLzCTzL",
        "outputId": "3681f7ea-866e-4175-d24e-6ad37589c68a"
      },
      "execution_count": 26,
      "outputs": [
        {
          "output_type": "stream",
          "name": "stdout",
          "text": [
            "   A   B\n",
            "0  1  10\n",
            "1  2  20\n",
            "2  3  30\n",
            "3  4  40\n",
            "4  5  50\n"
          ]
        }
      ]
    },
    {
      "cell_type": "code",
      "source": [
        "#7. Write a program to perform element-wise multiplication of two NumPy arrays.\n",
        "\n",
        "import numpy as np\n",
        "\n",
        "array1 = np.array([1, 2, 3, 4, 5])\n",
        "array2 = np.array([5, 4, 3, 2, 1])\n",
        "result = array1 * array2\n",
        "print(result)"
      ],
      "metadata": {
        "colab": {
          "base_uri": "https://localhost:8080/"
        },
        "id": "OKiXoyzDCqM6",
        "outputId": "7472853a-1688-43f5-ee91-d8b604b94a38"
      },
      "execution_count": 27,
      "outputs": [
        {
          "output_type": "stream",
          "name": "stdout",
          "text": [
            "[5 8 9 8 5]\n"
          ]
        }
      ]
    },
    {
      "cell_type": "code",
      "source": [
        "#8.  Create a line plot with multiple lines using Matplotlib\n",
        "\n",
        "import matplotlib.pyplot as plt\n",
        "import numpy as np\n",
        "\n",
        "x = np.linspace(0, 10, 100)\n",
        "y1 = np.sin(x)\n",
        "y2 = np.cos(x)\n",
        "y3 = np.tan(x)\n",
        "\n",
        "plt.figure(figsize=(10, 6))\n",
        "plt.plot(x, y1, label='sin(x)')\n",
        "plt.plot(x, y2, label='cos(x)')\n",
        "plt.plot(x, y3, label='tan(x)')\n",
        "plt.legend()\n",
        "plt.title('Multiple Line Plot')\n",
        "plt.xlabel('X')\n",
        "plt.ylabel('Y')\n",
        "plt.grid(True)\n",
        "plt.show()"
      ],
      "metadata": {
        "colab": {
          "base_uri": "https://localhost:8080/",
          "height": 564
        },
        "id": "sVMYoEr1C2Zs",
        "outputId": "9dfd9db1-9804-4aeb-c729-57abcfae5396"
      },
      "execution_count": 30,
      "outputs": [
        {
          "output_type": "display_data",
          "data": {
            "text/plain": [
              "<Figure size 1000x600 with 1 Axes>"
            ],
            "image/png": "[encoded data removed]"
          },
          "metadata": {}
        }
      ]
    },
    {
      "cell_type": "code",
      "source": [
        "#9. Generate a Pandas DataFrame and filter rows where a column value is greater than a threshold.\n",
        "\n",
        "import pandas as pd\n",
        "import numpy as np\n",
        "\n",
        "df = pd.DataFrame({\n",
        "    'A': np.random.rand(10),\n",
        "    'B': np.random.rand(10),\n",
        "    'C': np.random.rand(10)\n",
        "})\n",
        "print (df)\n",
        "threshold = 0.5\n",
        "filtered_df = df[df['A'] > threshold]\n",
        "print(filtered_df)"
      ],
      "metadata": {
        "colab": {
          "base_uri": "https://localhost:8080/"
        },
        "id": "dN_SyER1DOub",
        "outputId": "f798ffaf-7175-488c-bb3d-9b8122babb92"
      },
      "execution_count": 31,
      "outputs": [
        {
          "output_type": "stream",
          "name": "stdout",
          "text": [
            "          A         B         C\n",
            "0  0.888857  0.448293  0.006509\n",
            "1  0.918142  0.803460  0.824432\n",
            "2  0.704939  0.935283  0.718503\n",
            "3  0.203537  0.168901  0.818131\n",
            "4  0.406489  0.901962  0.354801\n",
            "5  0.914490  0.540429  0.240940\n",
            "6  0.778734  0.895401  0.433142\n",
            "7  0.816715  0.633096  0.260983\n",
            "8  0.628802  0.987240  0.830788\n",
            "9  0.313341  0.682954  0.347616\n",
            "          A         B         C\n",
            "0  0.888857  0.448293  0.006509\n",
            "1  0.918142  0.803460  0.824432\n",
            "2  0.704939  0.935283  0.718503\n",
            "5  0.914490  0.540429  0.240940\n",
            "6  0.778734  0.895401  0.433142\n",
            "7  0.816715  0.633096  0.260983\n",
            "8  0.628802  0.987240  0.830788\n"
          ]
        }
      ]
    },
    {
      "cell_type": "code",
      "source": [
        "#10.  Create a histogram using Seaborn to visualize a distribution.\n",
        "\n",
        "import seaborn as sns\n",
        "import matplotlib.pyplot as plt\n",
        "import numpy as np\n",
        "\n",
        "data = np.random.normal(0, 1, 1000)\n",
        "sns.histplot(data, kde=True)\n",
        "plt.title('Normal Distribution Histogram')\n",
        "plt.xlabel('Value')\n",
        "plt.ylabel('Frequency')\n",
        "plt.show()"
      ],
      "metadata": {
        "colab": {
          "base_uri": "https://localhost:8080/",
          "height": 472
        },
        "id": "XajcsCVADrSn",
        "outputId": "03ef4cca-77b7-453d-ffcf-965a457e582c"
      },
      "execution_count": 32,
      "outputs": [
        {
          "output_type": "display_data",
          "data": {
            "text/plain": [
              "<Figure size 640x480 with 1 Axes>"
            ],
            "image/png": "[encoded data removed]"
          },
          "metadata": {}
        }
      ]
    },
    {
      "cell_type": "code",
      "source": [
        "#11.  Perform matrix multiplication using NumPy.\n",
        "\n",
        "import numpy as np\n",
        "\n",
        "matrix1 = np.array([[1, 2], [3, 4]])\n",
        "matrix2 = np.array([[5, 6], [7, 8]])\n",
        "result = np.matmul(matrix1, matrix2)\n",
        "print(result)"
      ],
      "metadata": {
        "colab": {
          "base_uri": "https://localhost:8080/"
        },
        "id": "BQp3yaQyD3Vn",
        "outputId": "626ca884-bb53-4ce4-db78-7a751446abf6"
      },
      "execution_count": 33,
      "outputs": [
        {
          "output_type": "stream",
          "name": "stdout",
          "text": [
            "[[19 22]\n",
            " [43 50]]\n"
          ]
        }
      ]
    },
    {
      "cell_type": "code",
      "source": [
        "#12. Use Pandas to load a CSV file and display its first 5 rows\n",
        "\n",
        "import pandas as pd\n",
        "\n",
        "df = pd.read_csv('filename.csv')\n",
        "print(df.head())"
      ],
      "metadata": {
        "id": "TnH21OsPD_iB"
      },
      "execution_count": null,
      "outputs": []
    },
    {
      "cell_type": "code",
      "source": [
        "#13. Create a 3D scatter plot using Plotly\n",
        "\n",
        "import plotly.express as px\n",
        "import numpy as np\n",
        "\n",
        "n = 100\n",
        "x = np.random.rand(n)\n",
        "y = np.random.rand(n)\n",
        "z = np.random.rand(n)\n",
        "size = np.random.rand(n) * 20\n",
        "\n",
        "fig = px.scatter_3d(x=x, y=y, z=z, size=size)\n",
        "fig.update_layout(title='3D Scatter Plot')\n",
        "fig.show()"
      ],
      "metadata": {
        "colab": {
          "base_uri": "https://localhost:8080/",
          "height": 542
        },
        "id": "Ioo9N4hrEGQB",
        "outputId": "55847290-9877-44c8-b249-35e454c1a591"
      },
      "execution_count": 34,
      "outputs": [
        {
          "output_type": "display_data",
          "data": {
            "text/html": [
              "<html>\n",
              "<head><meta charset=\"utf-8\" /></head>\n",
              "<body>\n",
              "    <div>            <script src=\"https://cdnjs.cloudflare.com/ajax/libs/mathjax/2.7.5/MathJax.js?config=TeX-AMS-MML_SVG\"></script><script type=\"text/javascript\">if (window.MathJax && window.MathJax.Hub && window.MathJax.Hub.Config) {window.MathJax.Hub.Config({SVG: {font: \"STIX-Web\"}});}</script>                <script type=\"text/javascript\">window.PlotlyConfig = {MathJaxConfig: 'local'};</script>\n",
              "        <script charset=\"utf-8\" src=\"https://cdn.plot.ly/plotly-2.35.2.min.js\"></script>                <div id=\"4d28d00e-ca3d-4d21-9554-3a8d2b02bb3e\" class=\"plotly-graph-div\" style=\"height:525px; width:100%;\"></div>            <script type=\"text/javascript\">                                    window.PLOTLYENV=window.PLOTLYENV || {};                                    if (document.getElementById(\"4d28d00e-ca3d-4d21-9554-3a8d2b02bb3e\")) {                    Plotly.newPlot(                        \"4d28d00e-ca3d-4d21-9554-3a8d2b02bb3e\",                        [{\"hovertemplate\":\"x=%{x}\\u003cbr\\u003ey=%{y}\\u003cbr\\u003ez=%{z}\\u003cbr\\u003esize=%{marker.size}\\u003cextra\\u003e\\u003c\\u002fextra\\u003e\",\"legendgroup\":\"\",\"marker\":{\"color\":\"#636efa\",\"size\":[2.3798617783932663,11.311399645349969,5.748725747099233,4.640208715424048,0.40719449056883406,16.600336959051873,13.012780504076611,18.033074687005875,15.588421942508388,2.017896828967427,16.048761122533186,14.604897097375002,1.2931081381729381,14.099009343130328,0.6353639476081874,4.2619344075183,10.031032595846565,18.01942667999167,15.102170815021992,11.129428386310384,19.214453550403316,0.7790768385892655,18.187786164676055,16.451704459696387,2.351798848396587,4.428884038036891,6.866926204430188,13.191158819352896,1.864240989283008,15.216346733555124,12.360912056441798,11.798078126226748,17.710781418535213,6.901726071751144,16.997983642891974,7.749042732393647,0.4213091639479005,6.209393428043548,4.975059493698597,1.2305478787247348,10.721973387594073,16.827676165302787,10.88209628391337,0.5409209821561056,4.460528440992897,18.167420492032118,18.63540582852591,16.83043428317132,19.00131481815031,15.690017787721715,12.494110376690363,12.378654114820902,13.604808208919955,17.305295326479857,9.04463230730425,14.347504750172078,17.027740641978554,8.838140197085213,13.43754443557011,16.693128244294225,19.48653679217128,10.903224589976098,18.06771384965441,6.141943626092292,4.942508896524851,19.60592232635642,5.067671720646829,17.214920761072168,13.677617242788065,7.061458245964236,9.986315309688578,3.9251407570067,7.035535944611029,8.741886448332144,15.371039298213734,10.257053590312882,16.425600897556137,11.504397870905086,5.47807313812557,6.750552353467261,0.8878271432425966,16.42978703564922,15.989200391444221,14.009908130503083,2.8984933330434903,15.851640089558197,3.41609380469587,17.86208131005526,15.23433900102164,11.547378105594516,6.995060921423562,8.180935659644202,12.94982001086628,0.7314595757117992,17.522705870493674,5.863130540212731,12.738856442778877,13.181036737106053,6.250463802189747,10.967008875718458],\"sizemode\":\"area\",\"sizeref\":0.04901480581589105,\"symbol\":\"circle\"},\"mode\":\"markers\",\"name\":\"\",\"scene\":\"scene\",\"showlegend\":false,\"x\":[0.9066812354723882,0.7435088621083061,0.773693959109893,0.9382715074461653,0.6811914271501545,0.7160248200021356,0.30280417955577743,0.1390043926035357,0.4114001586336231,0.7190791524077339,0.44322836378758823,0.6807758940992447,0.7931925473011538,0.08903798744664226,0.715119210690899,0.9566269995756658,0.5952550816477529,0.4987034555567623,0.21243622454982347,0.4278130770180827,0.8075249713115915,0.5494204266815468,0.4803181547764145,0.30393946985406695,0.7842485539234654,0.5044377031237507,0.5947764854035428,0.28365809485800864,0.46333129322765254,0.7342595845157371,0.7840922873509159,0.592501281835226,0.8721960258568949,0.5281337724085986,0.2547367566332427,0.9697539397629983,0.31610237982574463,0.38048996943658486,0.9574984833263056,0.7518219689266318,0.6721186640100472,0.8302925540883067,0.6435063660760809,0.42333197723142957,0.04253002399514949,0.16401522905952093,0.5000708675477231,0.69304736546382,0.050203883774072366,0.42260737988959574,0.9918089308242288,0.5860845334059407,0.14874164908214516,0.9584010559463325,0.15356916171871926,0.21970430087360993,0.9346447215211323,0.12718622769600874,0.6717268662274042,0.8992925724330544,0.8623946176542187,0.2554456016078964,0.15225173244662604,0.7381944730676162,0.7421344734987542,0.1603816734616903,0.06592527871136011,0.5411728375278892,0.6075942277528269,0.04330484093355158,0.4929051571913259,0.06222539006456218,0.8115152926148914,0.3312719998880026,0.6058519268798773,0.26101429256253683,0.19599679486958788,0.9825694899538113,0.24284202222264473,0.847427738845174,0.9073402808253762,0.43260981257994213,0.712384410212712,0.01386609607637923,0.051869050641244696,0.23511649198362938,0.3579778877737859,0.2348815278830424,0.6206180873551026,0.07194072191669076,0.6177749511381798,0.668272270074066,0.146026339595849,0.8123817744965834,0.6553911691934573,0.12473298633626717,0.9731316805541754,0.7561032685489895,0.43098348746201576,0.04932164185482413],\"y\":[0.6512292954097817,0.04468391972662622,0.45063452289105166,0.13731606910787508,0.6302276601932297,0.6222548989575729,0.6478483843482218,0.04078091937028361,0.35739932182583944,0.4396981575340344,0.1193292808867864,0.061514456082526814,0.7056354941006494,0.8496245946101136,0.8756093604980487,0.9349699416992314,0.2747058189782582,0.5864344322293931,0.030062065291446394,0.05318095630328601,0.4605777397889973,0.7171866013368916,0.852647876108951,0.11764156858384034,0.1343842111112108,0.15392479867438424,0.47076569237714927,0.9553545074110793,0.8357988287891168,0.4184155994394777,0.5544150199721435,0.5065796661964219,0.6990598028182523,0.24711982390071685,0.7907869904066466,0.1987183557895772,0.10926244829310228,0.43849622850029724,0.041342347279239466,0.5178024118832559,0.545456312235851,0.6655396451658683,0.8135085979292503,0.9299447004455652,0.6554691944861692,0.07968115144230137,0.25343093514839654,0.6851656877659795,0.2371824325689874,0.6943030154507465,0.7088543443655836,0.40339119135427737,0.5462227444901795,0.7342472826204628,0.016907980033394776,0.2873360531972161,0.2876778453777372,0.1097849311291399,0.1148526907915286,0.5307073288855462,0.01619960447473623,0.6517088728065727,0.6956641118730899,0.4236706678340256,0.7167379109988244,0.8502097868156204,0.8981482987066948,0.902648547048459,0.9062029886668842,0.3515021235633351,0.02636952195228648,0.7514971005946669,0.561369832794498,0.530783323187488,0.8323533007775868,0.3710675890107227,0.5737931749238485,0.8499659365364225,0.09630223593928189,0.3002300575186039,0.26812570699568783,0.5853210700369733,0.031996988370078805,0.23803031104690342,0.7903983937949397,0.19218842978348605,0.47679640101560805,0.44767500437256835,0.30934337850419524,0.4209073492019748,0.5969196718403764,0.15166987465977877,0.8288974948451939,0.5754047129086872,0.9030399299693161,0.939001274821204,0.3325131247215487,0.1971054065792892,0.23727907086166822,0.005443870077122992],\"z\":[0.664252987492568,0.5116092360468638,0.06735784689606317,0.7428861667490633,0.11690357215391334,0.05411154282718744,0.6560379793523375,0.34652561494880196,0.5889279056223354,0.9728556298885418,0.8861043310729994,0.722477027631408,0.41060005336767136,0.16464805343482958,0.5710069724625366,0.9535367183516625,0.34516179284534865,0.23218900828649236,0.4090608543585561,0.2560421282073013,0.719640506235416,0.736290926209867,0.3264033241310733,0.8237339366731796,0.6477329984087028,0.2142907953297608,0.44563931842675397,0.577661892558918,0.5739069384866265,0.2657426654896641,0.59856614568914,0.4504029182802859,0.36766466490509286,0.5789493053505576,0.7138387433000192,0.5063565547932436,0.5078745432792271,0.9840362528910489,0.8196003741293395,0.3191499167988394,0.6886969373818549,0.342891904271705,0.34825421129775,0.08677227877415994,0.5150232595441104,0.18530527885952863,0.37184120683363153,0.10723993687136502,0.9470210839340485,0.7380759858595468,0.6772309389494537,0.6611054402162692,0.5330463979058979,0.7043379689954175,0.8493303685963974,0.8206245089577344,0.4445969550414054,0.12028201275896944,0.8194420509636533,0.9056365281715995,0.46351996796385975,0.38820533900142773,0.32000992317274013,0.6448309953583077,0.8505911576738129,0.49063038430673744,0.23806975639904604,0.16462326884197231,0.10011545328752092,0.25399814292261824,0.9369653777971443,0.3357093491093207,0.5784078725661809,0.12049522449628691,0.4959691628505817,0.398846052568811,0.994836770002815,0.7773921044553221,0.3256783978343951,0.05583179994771992,0.1009708517401886,0.12065122233346004,0.6553526249794875,0.21829552225041104,0.8121228920426069,0.20438991896679604,0.46153921528511044,0.3006902067602475,0.6969440972985513,0.1429064686119803,0.06988464519512072,0.7773299708538512,0.8085533835306921,0.44341683836883183,0.6178918090205251,0.16232312832460094,0.3179184259479393,0.27704887657542954,0.1278416886841024,0.6015100964996654],\"type\":\"scatter3d\"}],                        {\"template\":{\"data\":{\"histogram2dcontour\":[{\"type\":\"histogram2dcontour\",\"colorbar\":{\"outlinewidth\":0,\"ticks\":\"\"},\"colorscale\":[[0.0,\"#0d0887\"],[0.1111111111111111,\"#46039f\"],[0.2222222222222222,\"#7201a8\"],[0.3333333333333333,\"#9c179e\"],[0.4444444444444444,\"#bd3786\"],[0.5555555555555556,\"#d8576b\"],[0.6666666666666666,\"#ed7953\"],[0.7777777777777778,\"#fb9f3a\"],[0.8888888888888888,\"#fdca26\"],[1.0,\"#f0f921\"]]}],\"choropleth\":[{\"type\":\"choropleth\",\"colorbar\":{\"outlinewidth\":0,\"ticks\":\"\"}}],\"histogram2d\":[{\"type\":\"histogram2d\",\"colorbar\":{\"outlinewidth\":0,\"ticks\":\"\"},\"colorscale\":[[0.0,\"#0d0887\"],[0.1111111111111111,\"#46039f\"],[0.2222222222222222,\"#7201a8\"],[0.3333333333333333,\"#9c179e\"],[0.4444444444444444,\"#bd3786\"],[0.5555555555555556,\"#d8576b\"],[0.6666666666666666,\"#ed7953\"],[0.7777777777777778,\"#fb9f3a\"],[0.8888888888888888,\"#fdca26\"],[1.0,\"#f0f921\"]]}],\"heatmap\":[{\"type\":\"heatmap\",\"colorbar\":{\"outlinewidth\":0,\"ticks\":\"\"},\"colorscale\":[[0.0,\"#0d0887\"],[0.1111111111111111,\"#46039f\"],[0.2222222222222222,\"#7201a8\"],[0.3333333333333333,\"#9c179e\"],[0.4444444444444444,\"#bd3786\"],[0.5555555555555556,\"#d8576b\"],[0.6666666666666666,\"#ed7953\"],[0.7777777777777778,\"#fb9f3a\"],[0.8888888888888888,\"#fdca26\"],[1.0,\"#f0f921\"]]}],\"heatmapgl\":[{\"type\":\"heatmapgl\",\"colorbar\":{\"outlinewidth\":0,\"ticks\":\"\"},\"colorscale\":[[0.0,\"#0d0887\"],[0.1111111111111111,\"#46039f\"],[0.2222222222222222,\"#7201a8\"],[0.3333333333333333,\"#9c179e\"],[0.4444444444444444,\"#bd3786\"],[0.5555555555555556,\"#d8576b\"],[0.6666666666666666,\"#ed7953\"],[0.7777777777777778,\"#fb9f3a\"],[0.8888888888888888,\"#fdca26\"],[1.0,\"#f0f921\"]]}],\"contourcarpet\":[{\"type\":\"contourcarpet\",\"colorbar\":{\"outlinewidth\":0,\"ticks\":\"\"}}],\"contour\":[{\"type\":\"contour\",\"colorbar\":{\"outlinewidth\":0,\"ticks\":\"\"},\"colorscale\":[[0.0,\"#0d0887\"],[0.1111111111111111,\"#46039f\"],[0.2222222222222222,\"#7201a8\"],[0.3333333333333333,\"#9c179e\"],[0.4444444444444444,\"#bd3786\"],[0.5555555555555556,\"#d8576b\"],[0.6666666666666666,\"#ed7953\"],[0.7777777777777778,\"#fb9f3a\"],[0.8888888888888888,\"#fdca26\"],[1.0,\"#f0f921\"]]}],\"surface\":[{\"type\":\"surface\",\"colorbar\":{\"outlinewidth\":0,\"ticks\":\"\"},\"colorscale\":[[0.0,\"#0d0887\"],[0.1111111111111111,\"#46039f\"],[0.2222222222222222,\"#7201a8\"],[0.3333333333333333,\"#9c179e\"],[0.4444444444444444,\"#bd3786\"],[0.5555555555555556,\"#d8576b\"],[0.6666666666666666,\"#ed7953\"],[0.7777777777777778,\"#fb9f3a\"],[0.8888888888888888,\"#fdca26\"],[1.0,\"#f0f921\"]]}],\"mesh3d\":[{\"type\":\"mesh3d\",\"colorbar\":{\"outlinewidth\":0,\"ticks\":\"\"}}],\"scatter\":[{\"fillpattern\":{\"fillmode\":\"overlay\",\"size\":10,\"solidity\":0.2},\"type\":\"scatter\"}],\"parcoords\":[{\"type\":\"parcoords\",\"line\":{\"colorbar\":{\"outlinewidth\":0,\"ticks\":\"\"}}}],\"scatterpolargl\":[{\"type\":\"scatterpolargl\",\"marker\":{\"colorbar\":{\"outlinewidth\":0,\"ticks\":\"\"}}}],\"bar\":[{\"error_x\":{\"color\":\"#2a3f5f\"},\"error_y\":{\"color\":\"#2a3f5f\"},\"marker\":{\"line\":{\"color\":\"#E5ECF6\",\"width\":0.5},\"pattern\":{\"fillmode\":\"overlay\",\"size\":10,\"solidity\":0.2}},\"type\":\"bar\"}],\"scattergeo\":[{\"type\":\"scattergeo\",\"marker\":{\"colorbar\":{\"outlinewidth\":0,\"ticks\":\"\"}}}],\"scatterpolar\":[{\"type\":\"scatterpolar\",\"marker\":{\"colorbar\":{\"outlinewidth\":0,\"ticks\":\"\"}}}],\"histogram\":[{\"marker\":{\"pattern\":{\"fillmode\":\"overlay\",\"size\":10,\"solidity\":0.2}},\"type\":\"histogram\"}],\"scattergl\":[{\"type\":\"scattergl\",\"marker\":{\"colorbar\":{\"outlinewidth\":0,\"ticks\":\"\"}}}],\"scatter3d\":[{\"type\":\"scatter3d\",\"line\":{\"colorbar\":{\"outlinewidth\":0,\"ticks\":\"\"}},\"marker\":{\"colorbar\":{\"outlinewidth\":0,\"ticks\":\"\"}}}],\"scattermapbox\":[{\"type\":\"scattermapbox\",\"marker\":{\"colorbar\":{\"outlinewidth\":0,\"ticks\":\"\"}}}],\"scatterternary\":[{\"type\":\"scatterternary\",\"marker\":{\"colorbar\":{\"outlinewidth\":0,\"ticks\":\"\"}}}],\"scattercarpet\":[{\"type\":\"scattercarpet\",\"marker\":{\"colorbar\":{\"outlinewidth\":0,\"ticks\":\"\"}}}],\"carpet\":[{\"aaxis\":{\"endlinecolor\":\"#2a3f5f\",\"gridcolor\":\"white\",\"linecolor\":\"white\",\"minorgridcolor\":\"white\",\"startlinecolor\":\"#2a3f5f\"},\"baxis\":{\"endlinecolor\":\"#2a3f5f\",\"gridcolor\":\"white\",\"linecolor\":\"white\",\"minorgridcolor\":\"white\",\"startlinecolor\":\"#2a3f5f\"},\"type\":\"carpet\"}],\"table\":[{\"cells\":{\"fill\":{\"color\":\"#EBF0F8\"},\"line\":{\"color\":\"white\"}},\"header\":{\"fill\":{\"color\":\"#C8D4E3\"},\"line\":{\"color\":\"white\"}},\"type\":\"table\"}],\"barpolar\":[{\"marker\":{\"line\":{\"color\":\"#E5ECF6\",\"width\":0.5},\"pattern\":{\"fillmode\":\"overlay\",\"size\":10,\"solidity\":0.2}},\"type\":\"barpolar\"}],\"pie\":[{\"automargin\":true,\"type\":\"pie\"}]},\"layout\":{\"autotypenumbers\":\"strict\",\"colorway\":[\"#636efa\",\"#EF553B\",\"#00cc96\",\"#ab63fa\",\"#FFA15A\",\"#19d3f3\",\"#FF6692\",\"#B6E880\",\"#FF97FF\",\"#FECB52\"],\"font\":{\"color\":\"#2a3f5f\"},\"hovermode\":\"closest\",\"hoverlabel\":{\"align\":\"left\"},\"paper_bgcolor\":\"white\",\"plot_bgcolor\":\"#E5ECF6\",\"polar\":{\"bgcolor\":\"#E5ECF6\",\"angularaxis\":{\"gridcolor\":\"white\",\"linecolor\":\"white\",\"ticks\":\"\"},\"radialaxis\":{\"gridcolor\":\"white\",\"linecolor\":\"white\",\"ticks\":\"\"}},\"ternary\":{\"bgcolor\":\"#E5ECF6\",\"aaxis\":{\"gridcolor\":\"white\",\"linecolor\":\"white\",\"ticks\":\"\"},\"baxis\":{\"gridcolor\":\"white\",\"linecolor\":\"white\",\"ticks\":\"\"},\"caxis\":{\"gridcolor\":\"white\",\"linecolor\":\"white\",\"ticks\":\"\"}},\"coloraxis\":{\"colorbar\":{\"outlinewidth\":0,\"ticks\":\"\"}},\"colorscale\":{\"sequential\":[[0.0,\"#0d0887\"],[0.1111111111111111,\"#46039f\"],[0.2222222222222222,\"#7201a8\"],[0.3333333333333333,\"#9c179e\"],[0.4444444444444444,\"#bd3786\"],[0.5555555555555556,\"#d8576b\"],[0.6666666666666666,\"#ed7953\"],[0.7777777777777778,\"#fb9f3a\"],[0.8888888888888888,\"#fdca26\"],[1.0,\"#f0f921\"]],\"sequentialminus\":[[0.0,\"#0d0887\"],[0.1111111111111111,\"#46039f\"],[0.2222222222222222,\"#7201a8\"],[0.3333333333333333,\"#9c179e\"],[0.4444444444444444,\"#bd3786\"],[0.5555555555555556,\"#d8576b\"],[0.6666666666666666,\"#ed7953\"],[0.7777777777777778,\"#fb9f3a\"],[0.8888888888888888,\"#fdca26\"],[1.0,\"#f0f921\"]],\"diverging\":[[0,\"#8e0152\"],[0.1,\"#c51b7d\"],[0.2,\"#de77ae\"],[0.3,\"#f1b6da\"],[0.4,\"#fde0ef\"],[0.5,\"#f7f7f7\"],[0.6,\"#e6f5d0\"],[0.7,\"#b8e186\"],[0.8,\"#7fbc41\"],[0.9,\"#4d9221\"],[1,\"#276419\"]]},\"xaxis\":{\"gridcolor\":\"white\",\"linecolor\":\"white\",\"ticks\":\"\",\"title\":{\"standoff\":15},\"zerolinecolor\":\"white\",\"automargin\":true,\"zerolinewidth\":2},\"yaxis\":{\"gridcolor\":\"white\",\"linecolor\":\"white\",\"ticks\":\"\",\"title\":{\"standoff\":15},\"zerolinecolor\":\"white\",\"automargin\":true,\"zerolinewidth\":2},\"scene\":{\"xaxis\":{\"backgroundcolor\":\"#E5ECF6\",\"gridcolor\":\"white\",\"linecolor\":\"white\",\"showbackground\":true,\"ticks\":\"\",\"zerolinecolor\":\"white\",\"gridwidth\":2},\"yaxis\":{\"backgroundcolor\":\"#E5ECF6\",\"gridcolor\":\"white\",\"linecolor\":\"white\",\"showbackground\":true,\"ticks\":\"\",\"zerolinecolor\":\"white\",\"gridwidth\":2},\"zaxis\":{\"backgroundcolor\":\"#E5ECF6\",\"gridcolor\":\"white\",\"linecolor\":\"white\",\"showbackground\":true,\"ticks\":\"\",\"zerolinecolor\":\"white\",\"gridwidth\":2}},\"shapedefaults\":{\"line\":{\"color\":\"#2a3f5f\"}},\"annotationdefaults\":{\"arrowcolor\":\"#2a3f5f\",\"arrowhead\":0,\"arrowwidth\":1},\"geo\":{\"bgcolor\":\"white\",\"landcolor\":\"#E5ECF6\",\"subunitcolor\":\"white\",\"showland\":true,\"showlakes\":true,\"lakecolor\":\"white\"},\"title\":{\"x\":0.05},\"mapbox\":{\"style\":\"light\"}}},\"scene\":{\"domain\":{\"x\":[0.0,1.0],\"y\":[0.0,1.0]},\"xaxis\":{\"title\":{\"text\":\"x\"}},\"yaxis\":{\"title\":{\"text\":\"y\"}},\"zaxis\":{\"title\":{\"text\":\"z\"}}},\"legend\":{\"tracegroupgap\":0,\"itemsizing\":\"constant\"},\"margin\":{\"t\":60},\"title\":{\"text\":\"3D Scatter Plot\"}},                        {\"responsive\": true}                    ).then(function(){\n",
              "                            \n",
              "var gd = document.getElementById('4d28d00e-ca3d-4d21-9554-3a8d2b02bb3e');\n",
              "var x = new MutationObserver(function (mutations, observer) {{\n",
              "        var display = window.getComputedStyle(gd).display;\n",
              "        if (!display || display === 'none') {{\n",
              "            console.log([gd, 'removed!']);\n",
              "            Plotly.purge(gd);\n",
              "            observer.disconnect();\n",
              "        }}\n",
              "}});\n",
              "\n",
              "// Listen for the removal of the full notebook cells\n",
              "var notebookContainer = gd.closest('#notebook-container');\n",
              "if (notebookContainer) {{\n",
              "    x.observe(notebookContainer, {childList: true});\n",
              "}}\n",
              "\n",
              "// Listen for the clearing of the current output cell\n",
              "var outputEl = gd.closest('.output');\n",
              "if (outputEl) {{\n",
              "    x.observe(outputEl, {childList: true});\n",
              "}}\n",
              "\n",
              "                        })                };                            </script>        </div>\n",
              "</body>\n",
              "</html>"
            ]
          },
          "metadata": {}
        }
      ]
    }
  ]
}